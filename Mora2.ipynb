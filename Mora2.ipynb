{
 "cells": [
  {
   "cell_type": "code",
   "execution_count": 3,
   "id": "319ed9da-adf8-42b9-931f-4b6bce2dca82",
   "metadata": {},
   "outputs": [],
   "source": [
    "import pyspark"
   ]
  },
  {
   "cell_type": "code",
   "execution_count": 4,
   "id": "bdd59d3f-5671-477f-9d45-1f44cfa39755",
   "metadata": {},
   "outputs": [],
   "source": [
    "sc = pyspark.SparkContext('local[*]')"
   ]
  },
  {
   "cell_type": "code",
   "execution_count": 5,
   "id": "72c3aeb5-0caa-4c2e-8d5d-99914a3d0c00",
   "metadata": {},
   "outputs": [
    {
     "data": {
      "text/html": [
       "\n",
       "        <div>\n",
       "            <p><b>SparkContext</b></p>\n",
       "\n",
       "            <p><a href=\"http://9020915978c6:4040\">Spark UI</a></p>\n",
       "\n",
       "            <dl>\n",
       "              <dt>Version</dt>\n",
       "                <dd><code>v3.2.1</code></dd>\n",
       "              <dt>Master</dt>\n",
       "                <dd><code>local[*]</code></dd>\n",
       "              <dt>AppName</dt>\n",
       "                <dd><code>pyspark-shell</code></dd>\n",
       "            </dl>\n",
       "        </div>\n",
       "        "
      ],
      "text/plain": [
       "<SparkContext master=local[*] appName=pyspark-shell>"
      ]
     },
     "execution_count": 5,
     "metadata": {},
     "output_type": "execute_result"
    }
   ],
   "source": [
    "sc"
   ]
  },
  {
   "cell_type": "code",
   "execution_count": 6,
   "id": "05ac01f1-edab-4e8e-8c84-40d382ce86f4",
   "metadata": {},
   "outputs": [],
   "source": [
    "from pyspark.sql import SparkSession"
   ]
  },
  {
   "cell_type": "code",
   "execution_count": 7,
   "id": "cdcf4c42-1ed3-4914-9129-b91a7727c820",
   "metadata": {},
   "outputs": [
    {
     "data": {
      "text/html": [
       "\n",
       "            <div>\n",
       "                <p><b>SparkSession - in-memory</b></p>\n",
       "                \n",
       "        <div>\n",
       "            <p><b>SparkContext</b></p>\n",
       "\n",
       "            <p><a href=\"http://9020915978c6:4040\">Spark UI</a></p>\n",
       "\n",
       "            <dl>\n",
       "              <dt>Version</dt>\n",
       "                <dd><code>v3.2.1</code></dd>\n",
       "              <dt>Master</dt>\n",
       "                <dd><code>local[*]</code></dd>\n",
       "              <dt>AppName</dt>\n",
       "                <dd><code>pyspark-shell</code></dd>\n",
       "            </dl>\n",
       "        </div>\n",
       "        \n",
       "            </div>\n",
       "        "
      ],
      "text/plain": [
       "<pyspark.sql.session.SparkSession at 0xffff7b883d90>"
      ]
     },
     "execution_count": 7,
     "metadata": {},
     "output_type": "execute_result"
    }
   ],
   "source": [
    "spark = SparkSession(sc)\n",
    "spark"
   ]
  },
  {
   "cell_type": "code",
   "execution_count": 8,
   "id": "f92abb9d-e05c-4a35-aa49-2b823e620548",
   "metadata": {},
   "outputs": [],
   "source": [
    "prestamos = spark.read.csv(\"Default_Fin.csv\", header=True)"
   ]
  },
  {
   "cell_type": "code",
   "execution_count": 9,
   "id": "a3653e7d-fc0a-4385-aaf8-3ae0f9a3fc92",
   "metadata": {},
   "outputs": [],
   "source": [
    "prest2= prestamos.withColumnRenamed(\"Bank Balance\", \"Balance_Cuenta\").withColumnRenamed(\"Annual Salary\",\"Salario_Anual\").withColumnRenamed(\"Defaulted?\",\"Mora\")"
   ]
  },
  {
   "cell_type": "code",
   "execution_count": 10,
   "id": "98c3b1fb-46f7-42e1-a9c7-2693989a2aa4",
   "metadata": {},
   "outputs": [],
   "source": [
    "prestmora = prest2.drop(\"Index\")"
   ]
  },
  {
   "cell_type": "code",
   "execution_count": 11,
   "id": "3a0ad5a3-864c-4534-be2c-c59848e22c8a",
   "metadata": {},
   "outputs": [],
   "source": [
    "from pyspark.sql.functions import col, explode, array, lit"
   ]
  },
  {
   "cell_type": "code",
   "execution_count": 12,
   "id": "c99b8f6f-8bad-44e7-8a75-771092222427",
   "metadata": {},
   "outputs": [
    {
     "name": "stdout",
     "output_type": "stream",
     "text": [
      "ratio: 29\n"
     ]
    }
   ],
   "source": [
    "#Para lidiar con el Dataset desbalanceado hacemos un OVERSAMPLING. Smote para pyspark no existe, si existe en Scala.\n",
    "major_df = prestmora.filter(prestmora.Mora == 0)\n",
    "minor_df = prestmora.filter(prestmora.Mora == 1)\n",
    "ratio = int(major_df.count()/minor_df.count())\n",
    "print(\"ratio: {}\".format(ratio))"
   ]
  },
  {
   "cell_type": "code",
   "execution_count": 13,
   "id": "aa1429c8-22e1-4f95-a50c-bc08fe685ace",
   "metadata": {},
   "outputs": [
    {
     "name": "stdout",
     "output_type": "stream",
     "text": [
      "+--------+--------------+-------------+----+\n",
      "|Employed|Balance_Cuenta|Salario_Anual|Mora|\n",
      "+--------+--------------+-------------+----+\n",
      "|       1|       8754.36|    532339.56|   0|\n",
      "|       0|       9806.16|    145273.56|   0|\n",
      "|       1|       12882.6|    381205.68|   0|\n",
      "|       1|          6351|    428453.88|   0|\n",
      "|       1|       9427.92|       461562|   0|\n",
      "|       0|      11035.08|     89898.72|   0|\n",
      "|       1|       9906.12|    298862.76|   0|\n",
      "|       0|       9704.04|     211205.4|   0|\n",
      "|       1|      13932.72|    449622.36|   0|\n",
      "|       1|             0|    351303.24|   0|\n",
      "|       0|             0|    262452.84|   0|\n",
      "|       0|      14646.96|    159222.72|   0|\n",
      "|       1|        2844.6|     339020.4|   0|\n",
      "|       1|       7280.88|    539934.72|   0|\n",
      "|       1|      13355.64|    285722.04|   0|\n",
      "|       1|       3434.76|    540508.92|   0|\n",
      "|       1|             0|    603183.72|   0|\n",
      "|       0|       6330.48|    211638.48|   0|\n",
      "|       1|       5831.28|    738793.32|   0|\n",
      "|       1|      13140.84|    317575.56|   0|\n",
      "+--------+--------------+-------------+----+\n",
      "only showing top 20 rows\n",
      "\n"
     ]
    }
   ],
   "source": [
    "a = range(ratio)\n",
    "# duplicate the minority rows\n",
    "oversampled_df = minor_df.withColumn(\"dummy\", explode(array([lit(x) for x in a]))).drop('dummy')\n",
    "\n",
    "# combinar la minoria oversampleada con la mayoria  \n",
    "df_combinado = major_df.unionAll(oversampled_df)\n",
    "df_combinado.show()"
   ]
  },
  {
   "cell_type": "code",
   "execution_count": 14,
   "id": "df560801-f320-4677-8841-abea7bf43f37",
   "metadata": {},
   "outputs": [],
   "source": [
    "from pyspark.ml.feature import RFormula"
   ]
  },
  {
   "cell_type": "code",
   "execution_count": 15,
   "id": "8308334f-83b2-43de-b285-21d50b71bc43",
   "metadata": {},
   "outputs": [],
   "source": [
    "supervised = RFormula(formula = 'Mora ~. + Employed:Balance_Cuenta + Employed:Salario_Anual')"
   ]
  },
  {
   "cell_type": "code",
   "execution_count": 16,
   "id": "9d6ec113-18ff-42a5-b5a8-faf5cbd4e95d",
   "metadata": {},
   "outputs": [],
   "source": [
    "fittedRF = supervised.fit(df_combinado)"
   ]
  },
  {
   "cell_type": "code",
   "execution_count": 17,
   "id": "e78065d6-1be2-4a27-a9e7-0ce521d67288",
   "metadata": {},
   "outputs": [],
   "source": [
    "preparedDF = fittedRF.transform(df_combinado)"
   ]
  },
  {
   "cell_type": "code",
   "execution_count": 18,
   "id": "d82737a7-fdeb-499a-a0c9-da14e3cb9782",
   "metadata": {},
   "outputs": [
    {
     "name": "stdout",
     "output_type": "stream",
     "text": [
      "+--------+--------------+-------------+----+--------------------------------------------------------+-----+\n",
      "|Employed|Balance_Cuenta|Salario_Anual|Mora|features                                                |label|\n",
      "+--------+--------------+-------------+----+--------------------------------------------------------+-----+\n",
      "|1       |8754.36       |532339.56    |0   |(57647,[0,8429,16902,27643,45344],[1.0,1.0,1.0,1.0,1.0])|0.0  |\n",
      "|0       |9806.16       |145273.56    |0   |(57647,[9102,9818,37543,48249],[1.0,1.0,1.0,1.0])       |0.0  |\n",
      "|1       |12882.6       |381205.68    |0   |(57647,[0,2367,13738,21581,42180],[1.0,1.0,1.0,1.0,1.0])|0.0  |\n",
      "|1       |6351          |428453.88    |0   |(57647,[0,7045,14612,26259,43054],[1.0,1.0,1.0,1.0,1.0])|0.0  |\n",
      "|1       |9427.92       |461562       |0   |(57647,[0,8855,15374,28069,43816],[1.0,1.0,1.0,1.0,1.0])|0.0  |\n",
      "|0       |11035.08      |89898.72     |0   |(57647,[1243,19200,29684,57631],[1.0,1.0,1.0,1.0])      |0.0  |\n",
      "|1       |9906.12       |298862.76    |0   |(57647,[0,9163,12612,28377,41054],[1.0,1.0,1.0,1.0,1.0])|0.0  |\n",
      "|0       |9704.04       |211205.4     |0   |(57647,[9027,10922,37468,49353],[1.0,1.0,1.0,1.0])      |0.0  |\n",
      "|1       |13932.72      |449622.36    |0   |(57647,[0,2914,15086,22128,43528],[1.0,1.0,1.0,1.0,1.0])|0.0  |\n",
      "|1       |0             |351303.24    |0   |(57647,[0,1,13280,19215,41722],[1.0,1.0,1.0,1.0,1.0])   |0.0  |\n",
      "|0       |0             |262452.84    |0   |(57647,[1,12040,28442,50471],[1.0,1.0,1.0,1.0])         |0.0  |\n",
      "|0       |14646.96      |159222.72    |0   |(57647,[3277,9970,31718,48401],[1.0,1.0,1.0,1.0])       |0.0  |\n",
      "|1       |2844.6        |339020.4     |0   |(57647,[0,5467,13131,24681,41573],[1.0,1.0,1.0,1.0,1.0])|0.0  |\n",
      "|1       |7280.88       |539934.72    |0   |(57647,[0,7549,17059,26763,45501],[1.0,1.0,1.0,1.0,1.0])|0.0  |\n",
      "|1       |13355.64      |285722.04    |0   |(57647,[0,2630,12406,21844,40848],[1.0,1.0,1.0,1.0,1.0])|0.0  |\n",
      "|1       |3434.76       |540508.92    |0   |(57647,[0,5677,17068,24891,45510],[1.0,1.0,1.0,1.0,1.0])|0.0  |\n",
      "|1       |0             |603183.72    |0   |(57647,[0,1,18132,19215,46574],[1.0,1.0,1.0,1.0,1.0])   |0.0  |\n",
      "|0       |6330.48       |211638.48    |0   |(57647,[7028,10934,35469,49365],[1.0,1.0,1.0,1.0])      |0.0  |\n",
      "|1       |5831.28       |738793.32    |0   |(57647,[0,506,19078,19720,47520],[1.0,1.0,1.0,1.0,1.0]) |0.0  |\n",
      "|1       |13140.84      |317575.56    |0   |(57647,[0,2513,12863,21727,41305],[1.0,1.0,1.0,1.0,1.0])|0.0  |\n",
      "+--------+--------------+-------------+----+--------------------------------------------------------+-----+\n",
      "only showing top 20 rows\n",
      "\n"
     ]
    }
   ],
   "source": [
    "preparedDF.show(truncate=False)"
   ]
  },
  {
   "cell_type": "code",
   "execution_count": 19,
   "id": "4832467c-daa5-4706-9dad-6908243ee259",
   "metadata": {},
   "outputs": [],
   "source": [
    "from pyspark.ml.classification import LogisticRegression, DecisionTreeClassifier\n",
    "\n",
    "from pyspark.ml import Pipeline\n",
    "from pyspark.ml.tuning import ParamGridBuilder, TrainValidationSplit\n",
    "from pyspark.ml.evaluation import BinaryClassificationEvaluator"
   ]
  },
  {
   "cell_type": "code",
   "execution_count": 20,
   "id": "62c5575a-7b67-4359-8214-2c490d426e5e",
   "metadata": {},
   "outputs": [],
   "source": [
    "lr = LogisticRegression().setLabelCol('label').setFeaturesCol('features')\n",
    "dt = DecisionTreeClassifier().setLabelCol('label').setFeaturesCol('features')"
   ]
  },
  {
   "cell_type": "code",
   "execution_count": 21,
   "id": "9fc10dd5-ea50-401a-a27c-35f5466ed35c",
   "metadata": {},
   "outputs": [],
   "source": [
    "stages = [lr]\n",
    "\n",
    "pipeline= Pipeline().setStages(stages)"
   ]
  },
  {
   "cell_type": "code",
   "execution_count": 22,
   "id": "62b851cd-63c0-4884-8020-44c77d535aac",
   "metadata": {},
   "outputs": [],
   "source": [
    "params = ParamGridBuilder()\\\n",
    "    .addGrid(lr.elasticNetParam,[0.0,0.5])\\\n",
    "    .addGrid(lr.regParam,[0.1,2.0])\\\n",
    "    .build()"
   ]
  },
  {
   "cell_type": "code",
   "execution_count": 23,
   "id": "7dde3823-3976-4da4-885f-617954fb8e04",
   "metadata": {},
   "outputs": [],
   "source": [
    "evaluator = BinaryClassificationEvaluator()\\\n",
    "    .setMetricName('areaUnderROC')\\\n",
    "    .setRawPredictionCol('prediction')\\\n",
    "    .setLabelCol('label')"
   ]
  },
  {
   "cell_type": "code",
   "execution_count": 24,
   "id": "620e550f-8964-45ac-abf0-906cb52e8e52",
   "metadata": {},
   "outputs": [],
   "source": [
    "#Ensamblamos los componentes\n",
    "tvs = TrainValidationSplit()\\\n",
    "    .setTrainRatio(0.75)\\\n",
    "    .setEstimatorParamMaps(params)\\\n",
    "    .setEstimator(pipeline)\\\n",
    "    .setEvaluator(evaluator)"
   ]
  },
  {
   "cell_type": "code",
   "execution_count": 25,
   "id": "9ddd78ad-9c18-47c1-ad4b-e09c98f73648",
   "metadata": {},
   "outputs": [],
   "source": [
    "dataTrain, dataTest = preparedDF.randomSplit([0.7,0.3])"
   ]
  },
  {
   "cell_type": "code",
   "execution_count": 26,
   "id": "5a0ae6fd-9463-47e8-a2e9-6474f777a124",
   "metadata": {},
   "outputs": [],
   "source": [
    "tvsFitted = tvs.fit(dataTrain)"
   ]
  },
  {
   "cell_type": "code",
   "execution_count": 27,
   "id": "b5433b75-44dd-4c69-beec-7b8519a3888f",
   "metadata": {},
   "outputs": [
    {
     "name": "stdout",
     "output_type": "stream",
     "text": [
      "+--------+--------------+-------------+----+--------------------+-----+--------------------+--------------------+----------+\n",
      "|Employed|Balance_Cuenta|Salario_Anual|Mora|            features|label|       rawPrediction|         probability|prediction|\n",
      "+--------+--------------+-------------+----+--------------------+-----+--------------------+--------------------+----------+\n",
      "|       0|             0|    111857.52|   0|(57647,[1,9603,28...|  0.0|[1.28549303730463...|[0.78338336208691...|       0.0|\n",
      "|       0|             0|    123315.12|   0|(57647,[1,9644,28...|  0.0|[1.28549303730463...|[0.78338336208691...|       0.0|\n",
      "|       0|             0|    160010.88|   0|(57647,[1,9983,28...|  0.0|[1.28549303730463...|[0.78338336208691...|       0.0|\n",
      "|       0|             0|    160893.12|   0|(57647,[1,9997,28...|  0.0|[1.28549303730463...|[0.78338336208691...|       0.0|\n",
      "|       0|             0|    163461.72|   0|(57647,[1,10031,2...|  0.0|[1.28549303730463...|[0.78338336208691...|       0.0|\n",
      "|       0|             0|    188387.76|   0|(57647,[1,10452,2...|  0.0|[1.28549303730463...|[0.78338336208691...|       0.0|\n",
      "|       0|             0|    191834.88|   0|(57647,[1,10547,2...|  0.0|[1.28549303730463...|[0.78338336208691...|       0.0|\n",
      "|       0|             0|    193872.36|   0|(57647,[1,10585,2...|  0.0|[1.28549303730463...|[0.78338336208691...|       0.0|\n",
      "|       0|             0|    197057.88|   0|(57647,[1,10639,2...|  0.0|[1.28549303730463...|[0.78338336208691...|       0.0|\n",
      "|       0|             0|       210936|   0|(57647,[1,10918,2...|  0.0|[1.28549303730463...|[0.78338336208691...|       0.0|\n",
      "|       0|             0|    212350.08|   0|(57647,[1,10959,2...|  0.0|[1.28549303730463...|[0.78338336208691...|       0.0|\n",
      "|       0|             0|    216384.84|   0|(57647,[1,11048,2...|  0.0|[1.28549303730463...|[0.78338336208691...|       0.0|\n",
      "|       0|             0|    226509.24|   0|(57647,[1,11279,2...|  0.0|[1.28549303730463...|[0.78338336208691...|       0.0|\n",
      "|       0|             0|    229149.96|   0|(57647,[1,11351,2...|  0.0|[1.28549303730463...|[0.78338336208691...|       0.0|\n",
      "|       0|             0|    231380.52|   0|(57647,[1,11405,2...|  0.0|[1.28549303730463...|[0.78338336208691...|       0.0|\n",
      "|       0|             0|     237004.8|   0|(57647,[1,11518,2...|  0.0|[1.28549303730463...|[0.78338336208691...|       0.0|\n",
      "|       0|             0|    240813.72|   0|(57647,[1,11603,2...|  0.0|[1.28549303730463...|[0.78338336208691...|       0.0|\n",
      "|       0|             0|       242340|   0|(57647,[1,11634,2...|  0.0|[1.28549303730463...|[0.78338336208691...|       0.0|\n",
      "|       0|             0|    245713.92|   0|(57647,[1,11697,2...|  0.0|[1.28549303730463...|[0.78338336208691...|       0.0|\n",
      "|       0|             0|    250534.68|   0|(57647,[1,11793,2...|  0.0|[1.28549303730463...|[0.78338336208691...|       0.0|\n",
      "+--------+--------------+-------------+----+--------------------+-----+--------------------+--------------------+----------+\n",
      "only showing top 20 rows\n",
      "\n"
     ]
    }
   ],
   "source": [
    "dataTestPrediction = tvsFitted.transform(dataTest)\n",
    "dataTestPrediction.show()"
   ]
  },
  {
   "cell_type": "code",
   "execution_count": 28,
   "id": "19624b78-9cb7-43cd-bd2b-069db34af005",
   "metadata": {},
   "outputs": [
    {
     "data": {
      "text/plain": [
       "0.8640776699029127"
      ]
     },
     "execution_count": 28,
     "metadata": {},
     "output_type": "execute_result"
    }
   ],
   "source": [
    "#Hacemos una evaluacion de tipo area under ROc sobre las columnas prediction y label\n",
    "evaluator.evaluate(dataTestPrediction)"
   ]
  },
  {
   "cell_type": "code",
   "execution_count": 29,
   "id": "b1c60d94-e702-4db7-b578-beb0a99ac05c",
   "metadata": {},
   "outputs": [
    {
     "data": {
      "text/plain": [
       "[Param(parent='TrainValidationSplitModel_90d4214e1ce1', name='estimator', doc='estimator to be cross-validated'),\n",
       " Param(parent='TrainValidationSplitModel_90d4214e1ce1', name='estimatorParamMaps', doc='estimator param maps'),\n",
       " Param(parent='TrainValidationSplitModel_90d4214e1ce1', name='evaluator', doc='evaluator used to select hyper-parameters that maximize the validator metric'),\n",
       " Param(parent='TrainValidationSplitModel_90d4214e1ce1', name='seed', doc='random seed.'),\n",
       " Param(parent='TrainValidationSplitModel_90d4214e1ce1', name='trainRatio', doc='Param for ratio between train and     validation data. Must be between 0 and 1.')]"
      ]
     },
     "execution_count": 29,
     "metadata": {},
     "output_type": "execute_result"
    }
   ],
   "source": [
    "tvsFitted.params"
   ]
  },
  {
   "cell_type": "code",
   "execution_count": 30,
   "id": "5fb0907b-60dd-4d1a-b3d0-4491d47f599e",
   "metadata": {},
   "outputs": [
    {
     "name": "stdout",
     "output_type": "stream",
     "text": [
      "cacheNodeIds: If false, the algorithm will pass trees to executors to match instances with nodes. If true, the algorithm will cache node IDs for each instance. Caching can speed up training of deeper trees. Users can set how often should the cache be checkpointed or disable it by setting checkpointInterval. (default: False)\n",
      "checkpointInterval: set checkpoint interval (>= 1) or disable checkpoint (-1). E.g. 10 means that the cache will get checkpointed every 10 iterations. Note: this setting will be ignored if the checkpoint directory is not set in the SparkContext. (default: 10)\n",
      "featuresCol: features column name. (default: features, current: features)\n",
      "impurity: Criterion used for information gain calculation (case-insensitive). Supported options: entropy, gini (default: gini)\n",
      "labelCol: label column name. (default: label, current: label)\n",
      "leafCol: Leaf indices column name. Predicted leaf index of each instance in each tree by preorder. (default: )\n",
      "maxBins: Max number of bins for discretizing continuous features.  Must be >=2 and >= number of categories for any categorical feature. (default: 32)\n",
      "maxDepth: Maximum depth of the tree. (>= 0) E.g., depth 0 means 1 leaf node; depth 1 means 1 internal node + 2 leaf nodes. Must be in range [0, 30]. (default: 5)\n",
      "maxMemoryInMB: Maximum memory in MB allocated to histogram aggregation. If too small, then 1 node will be split per iteration, and its aggregates may exceed this size. (default: 256)\n",
      "minInfoGain: Minimum information gain for a split to be considered at a tree node. (default: 0.0)\n",
      "minInstancesPerNode: Minimum number of instances each child must have after split. If a split causes the left or right child to have fewer than minInstancesPerNode, the split will be discarded as invalid. Should be >= 1. (default: 1)\n",
      "minWeightFractionPerNode: Minimum fraction of the weighted sample count that each child must have after split. If a split causes the fraction of the total weight in the left or right child to be less than minWeightFractionPerNode, the split will be discarded as invalid. Should be in interval [0.0, 0.5). (default: 0.0)\n",
      "predictionCol: prediction column name. (default: prediction)\n",
      "probabilityCol: Column name for predicted class conditional probabilities. Note: Not all models output well-calibrated probability estimates! These probabilities should be treated as confidences, not precise probabilities. (default: probability)\n",
      "rawPredictionCol: raw prediction (a.k.a. confidence) column name. (default: rawPrediction)\n",
      "seed: random seed. (default: 5126048568970166787)\n",
      "thresholds: Thresholds in multi-class classification to adjust the probability of predicting each class. Array must have length equal to the number of classes, with values > 0, excepting that at most one value may be 0. The class with largest value p/t is predicted, where p is the original probability of that class and t is the class's threshold. (undefined)\n",
      "weightCol: weight column name. If this is not set or empty, we treat all instance weights as 1.0. (undefined)\n"
     ]
    }
   ],
   "source": [
    "print(dt.explainParams())"
   ]
  },
  {
   "cell_type": "code",
   "execution_count": 31,
   "id": "ad2062a8-293d-4320-bee8-c4573229cbc6",
   "metadata": {},
   "outputs": [],
   "source": [
    "stages2 = [dt]\n",
    "pipeline2= Pipeline().setStages(stages2)"
   ]
  },
  {
   "cell_type": "code",
   "execution_count": 32,
   "id": "5b3c2844-39b0-4db0-9fcf-6c1379713e08",
   "metadata": {},
   "outputs": [],
   "source": [
    "params2 = ParamGridBuilder()\\\n",
    "    .addGrid(dt.maxDepth,[2, 3])\\\n",
    "    .build()"
   ]
  },
  {
   "cell_type": "code",
   "execution_count": 33,
   "id": "483b1b75-52fa-4467-a2f2-a448968b9b8b",
   "metadata": {},
   "outputs": [],
   "source": [
    "evaluator2 = BinaryClassificationEvaluator()\\\n",
    "    .setMetricName('areaUnderROC')\\\n",
    "    .setRawPredictionCol('prediction')\\\n",
    "    .setLabelCol('label')"
   ]
  },
  {
   "cell_type": "code",
   "execution_count": 34,
   "id": "e264c7e3-befe-4200-9989-2d2ea2398c8e",
   "metadata": {},
   "outputs": [],
   "source": [
    "tvs2 = TrainValidationSplit()\\\n",
    "    .setTrainRatio(0.75)\\\n",
    "    .setEstimatorParamMaps(params2)\\\n",
    "    .setEstimator(pipeline2)\\\n",
    "    .setEvaluator(evaluator2)"
   ]
  },
  {
   "cell_type": "code",
   "execution_count": 35,
   "id": "644abf8c-7b99-4b10-8c93-9034b229c394",
   "metadata": {},
   "outputs": [],
   "source": [
    "tvsFitted2 = tvs2.fit(dataTrain)"
   ]
  },
  {
   "cell_type": "code",
   "execution_count": 36,
   "id": "cd9f7533-f110-4ecb-bf0d-7e7910c7e878",
   "metadata": {},
   "outputs": [
    {
     "name": "stdout",
     "output_type": "stream",
     "text": [
      "+--------+--------------+-------------+----+--------------------+-----+-------------+-----------+----------+\n",
      "|Employed|Balance_Cuenta|Salario_Anual|Mora|            features|label|rawPrediction|probability|prediction|\n",
      "+--------+--------------+-------------+----+--------------------+-----+-------------+-----------+----------+\n",
      "|       0|             0|    111857.52|   0|(57647,[1,9603,28...|  0.0|  [345.0,0.0]|  [1.0,0.0]|       0.0|\n",
      "|       0|             0|    123315.12|   0|(57647,[1,9644,28...|  0.0|  [345.0,0.0]|  [1.0,0.0]|       0.0|\n",
      "|       0|             0|    160010.88|   0|(57647,[1,9983,28...|  0.0|  [345.0,0.0]|  [1.0,0.0]|       0.0|\n",
      "|       0|             0|    160893.12|   0|(57647,[1,9997,28...|  0.0|  [345.0,0.0]|  [1.0,0.0]|       0.0|\n",
      "|       0|             0|    163461.72|   0|(57647,[1,10031,2...|  0.0|  [345.0,0.0]|  [1.0,0.0]|       0.0|\n",
      "|       0|             0|    188387.76|   0|(57647,[1,10452,2...|  0.0|  [345.0,0.0]|  [1.0,0.0]|       0.0|\n",
      "|       0|             0|    191834.88|   0|(57647,[1,10547,2...|  0.0|  [345.0,0.0]|  [1.0,0.0]|       0.0|\n",
      "|       0|             0|    193872.36|   0|(57647,[1,10585,2...|  0.0|  [345.0,0.0]|  [1.0,0.0]|       0.0|\n",
      "|       0|             0|    197057.88|   0|(57647,[1,10639,2...|  0.0|  [345.0,0.0]|  [1.0,0.0]|       0.0|\n",
      "|       0|             0|       210936|   0|(57647,[1,10918,2...|  0.0|  [345.0,0.0]|  [1.0,0.0]|       0.0|\n",
      "|       0|             0|    212350.08|   0|(57647,[1,10959,2...|  0.0|  [345.0,0.0]|  [1.0,0.0]|       0.0|\n",
      "|       0|             0|    216384.84|   0|(57647,[1,11048,2...|  0.0|  [345.0,0.0]|  [1.0,0.0]|       0.0|\n",
      "|       0|             0|    226509.24|   0|(57647,[1,11279,2...|  0.0|  [345.0,0.0]|  [1.0,0.0]|       0.0|\n",
      "|       0|             0|    229149.96|   0|(57647,[1,11351,2...|  0.0|  [345.0,0.0]|  [1.0,0.0]|       0.0|\n",
      "|       0|             0|    231380.52|   0|(57647,[1,11405,2...|  0.0|  [345.0,0.0]|  [1.0,0.0]|       0.0|\n",
      "|       0|             0|     237004.8|   0|(57647,[1,11518,2...|  0.0|  [345.0,0.0]|  [1.0,0.0]|       0.0|\n",
      "|       0|             0|    240813.72|   0|(57647,[1,11603,2...|  0.0|  [345.0,0.0]|  [1.0,0.0]|       0.0|\n",
      "|       0|             0|       242340|   0|(57647,[1,11634,2...|  0.0|  [345.0,0.0]|  [1.0,0.0]|       0.0|\n",
      "|       0|             0|    245713.92|   0|(57647,[1,11697,2...|  0.0|  [345.0,0.0]|  [1.0,0.0]|       0.0|\n",
      "|       0|             0|    250534.68|   0|(57647,[1,11793,2...|  0.0|  [345.0,0.0]|  [1.0,0.0]|       0.0|\n",
      "+--------+--------------+-------------+----+--------------------+-----+-------------+-----------+----------+\n",
      "only showing top 20 rows\n",
      "\n"
     ]
    }
   ],
   "source": [
    "dataTestPrediction2 = tvsFitted2.transform(dataTest)\n",
    "dataTestPrediction2.show()"
   ]
  },
  {
   "cell_type": "code",
   "execution_count": 37,
   "id": "65cba8ee-6bb0-4bc5-a519-58178e924148",
   "metadata": {},
   "outputs": [
    {
     "data": {
      "text/plain": [
       "0.544982037006299"
      ]
     },
     "execution_count": 37,
     "metadata": {},
     "output_type": "execute_result"
    }
   ],
   "source": [
    "evaluator2.evaluate(dataTestPrediction2)"
   ]
  },
  {
   "cell_type": "code",
   "execution_count": 38,
   "id": "61eae516-5a5b-4e01-9ce4-629aaedeb75a",
   "metadata": {},
   "outputs": [
    {
     "name": "stdout",
     "output_type": "stream",
     "text": [
      "Test Area Under ROC: 0.8640776699029127\n"
     ]
    }
   ],
   "source": [
    "print(\"Test Area Under ROC: \" + str(evaluator2.evaluate(dataTestPrediction, {evaluator2.metricName: \"areaUnderROC\"})))"
   ]
  },
  {
   "cell_type": "code",
   "execution_count": 39,
   "id": "2519f6db-5551-429f-ac45-33c2f59b1ea4",
   "metadata": {},
   "outputs": [],
   "source": [
    "from pyspark.ml.classification import RandomForestClassifier"
   ]
  },
  {
   "cell_type": "code",
   "execution_count": 40,
   "id": "0e2e03ac-7d0f-4380-85c8-f71609d9ec3f",
   "metadata": {},
   "outputs": [],
   "source": [
    "rfc = RandomForestClassifier()"
   ]
  },
  {
   "cell_type": "code",
   "execution_count": 41,
   "id": "2070987f-51ec-48c4-a92e-6323a3b475b8",
   "metadata": {},
   "outputs": [],
   "source": [
    "rfModel = rfc.fit(dataTrain)"
   ]
  },
  {
   "cell_type": "code",
   "execution_count": 42,
   "id": "02cf5a41-b5a3-4505-a6d4-e786910dcac0",
   "metadata": {},
   "outputs": [
    {
     "name": "stdout",
     "output_type": "stream",
     "text": [
      "+--------+--------------+-------------+----+--------------------+-----+--------------------+--------------------+----------+\n",
      "|Employed|Balance_Cuenta|Salario_Anual|Mora|            features|label|       rawPrediction|         probability|prediction|\n",
      "+--------+--------------+-------------+----+--------------------+-----+--------------------+--------------------+----------+\n",
      "|       0|             0|    111857.52|   0|(57647,[1,9603,28...|  0.0|[11.1099342781369...|[0.55549671390684...|       0.0|\n",
      "|       0|             0|    123315.12|   0|(57647,[1,9644,28...|  0.0|[11.1099342781369...|[0.55549671390684...|       0.0|\n",
      "|       0|             0|    160010.88|   0|(57647,[1,9983,28...|  0.0|[11.1099342781369...|[0.55549671390684...|       0.0|\n",
      "|       0|             0|    160893.12|   0|(57647,[1,9997,28...|  0.0|[11.1099342781369...|[0.55549671390684...|       0.0|\n",
      "|       0|             0|    163461.72|   0|(57647,[1,10031,2...|  0.0|[11.1099342781369...|[0.55549671390684...|       0.0|\n",
      "|       0|             0|    188387.76|   0|(57647,[1,10452,2...|  0.0|[11.1099342781369...|[0.55549671390684...|       0.0|\n",
      "|       0|             0|    191834.88|   0|(57647,[1,10547,2...|  0.0|[11.1099342781369...|[0.55549671390684...|       0.0|\n",
      "|       0|             0|    193872.36|   0|(57647,[1,10585,2...|  0.0|[11.1099342781369...|[0.55549671390684...|       0.0|\n",
      "|       0|             0|    197057.88|   0|(57647,[1,10639,2...|  0.0|[11.1099342781369...|[0.55549671390684...|       0.0|\n",
      "|       0|             0|       210936|   0|(57647,[1,10918,2...|  0.0|[11.1099342781369...|[0.55549671390684...|       0.0|\n",
      "|       0|             0|    212350.08|   0|(57647,[1,10959,2...|  0.0|[11.1099342781369...|[0.55549671390684...|       0.0|\n",
      "|       0|             0|    216384.84|   0|(57647,[1,11048,2...|  0.0|[11.1099342781369...|[0.55549671390684...|       0.0|\n",
      "|       0|             0|    226509.24|   0|(57647,[1,11279,2...|  0.0|[11.1099342781369...|[0.55549671390684...|       0.0|\n",
      "|       0|             0|    229149.96|   0|(57647,[1,11351,2...|  0.0|[11.1099342781369...|[0.55549671390684...|       0.0|\n",
      "|       0|             0|    231380.52|   0|(57647,[1,11405,2...|  0.0|[11.1099342781369...|[0.55549671390684...|       0.0|\n",
      "|       0|             0|     237004.8|   0|(57647,[1,11518,2...|  0.0|[11.1099342781369...|[0.55549671390684...|       0.0|\n",
      "|       0|             0|    240813.72|   0|(57647,[1,11603,2...|  0.0|[11.1099342781369...|[0.55549671390684...|       0.0|\n",
      "|       0|             0|       242340|   0|(57647,[1,11634,2...|  0.0|[11.1099342781369...|[0.55549671390684...|       0.0|\n",
      "|       0|             0|    245713.92|   0|(57647,[1,11697,2...|  0.0|[11.1099342781369...|[0.55549671390684...|       0.0|\n",
      "|       0|             0|    250534.68|   0|(57647,[1,11793,2...|  0.0|[11.1099342781369...|[0.55549671390684...|       0.0|\n",
      "+--------+--------------+-------------+----+--------------------+-----+--------------------+--------------------+----------+\n",
      "only showing top 20 rows\n",
      "\n"
     ]
    }
   ],
   "source": [
    "DataTestPrediction3 = rfModel.transform(dataTest)\n",
    "DataTestPrediction3.show()"
   ]
  },
  {
   "cell_type": "code",
   "execution_count": 43,
   "id": "8d47300a-1980-4b5f-8442-187e71ed5fa0",
   "metadata": {},
   "outputs": [
    {
     "data": {
      "text/plain": [
       "0.5921230561189993"
      ]
     },
     "execution_count": 43,
     "metadata": {},
     "output_type": "execute_result"
    }
   ],
   "source": [
    "evaluator2.evaluate(DataTestPrediction3)"
   ]
  },
  {
   "cell_type": "code",
   "execution_count": 44,
   "id": "2d299b04-d993-445e-bcd0-6e9a073ee2e3",
   "metadata": {},
   "outputs": [],
   "source": [
    "from pyspark.ml.classification import NaiveBayes"
   ]
  },
  {
   "cell_type": "code",
   "execution_count": 48,
   "id": "0dfcf366-78f7-4a6f-81e5-15bb8611bb5d",
   "metadata": {},
   "outputs": [],
   "source": [
    "nb = NaiveBayes()\n",
    "stages4 = [nb]\n",
    "pipeline4= Pipeline().setStages(stages2)"
   ]
  },
  {
   "cell_type": "code",
   "execution_count": 49,
   "id": "5e963e74-50c1-4c3f-b880-1236c25b0272",
   "metadata": {},
   "outputs": [],
   "source": [
    "params4 = ParamGridBuilder()\\\n",
    "    .addGrid(nb.modelType,['multinomial','gaussian','bernoulli'])\\\n",
    "    .build()"
   ]
  },
  {
   "cell_type": "code",
   "execution_count": 50,
   "id": "1498e3ab-bf39-403e-b0c5-57c5d17cfd28",
   "metadata": {},
   "outputs": [],
   "source": [
    "tvs4 = TrainValidationSplit()\\\n",
    "    .setTrainRatio(0.75)\\\n",
    "    .setEstimatorParamMaps(params4)\\\n",
    "    .setEstimator(pipeline4)\\\n",
    "    .setEvaluator(evaluator2)"
   ]
  },
  {
   "cell_type": "code",
   "execution_count": 51,
   "id": "ce804c80-21ad-4aac-bba7-8419538fdb26",
   "metadata": {},
   "outputs": [],
   "source": [
    "tvsFitted4 = tvs4.fit(dataTrain)"
   ]
  },
  {
   "cell_type": "code",
   "execution_count": 55,
   "id": "4e5f7d76-f54a-4441-a8d1-f3027bf9f9a7",
   "metadata": {},
   "outputs": [
    {
     "name": "stdout",
     "output_type": "stream",
     "text": [
      "+--------+--------------+-------------+----+--------------------+-----+-------------+-----------+----------+\n",
      "|Employed|Balance_Cuenta|Salario_Anual|Mora|            features|label|rawPrediction|probability|prediction|\n",
      "+--------+--------------+-------------+----+--------------------+-----+-------------+-----------+----------+\n",
      "|       0|             0|    111857.52|   0|(57647,[1,9603,28...|  0.0|  [345.0,0.0]|  [1.0,0.0]|       0.0|\n",
      "|       0|             0|    123315.12|   0|(57647,[1,9644,28...|  0.0|  [345.0,0.0]|  [1.0,0.0]|       0.0|\n",
      "|       0|             0|    160010.88|   0|(57647,[1,9983,28...|  0.0|  [345.0,0.0]|  [1.0,0.0]|       0.0|\n",
      "|       0|             0|    160893.12|   0|(57647,[1,9997,28...|  0.0|  [345.0,0.0]|  [1.0,0.0]|       0.0|\n",
      "|       0|             0|    163461.72|   0|(57647,[1,10031,2...|  0.0|  [345.0,0.0]|  [1.0,0.0]|       0.0|\n",
      "|       0|             0|    188387.76|   0|(57647,[1,10452,2...|  0.0|  [345.0,0.0]|  [1.0,0.0]|       0.0|\n",
      "|       0|             0|    191834.88|   0|(57647,[1,10547,2...|  0.0|  [345.0,0.0]|  [1.0,0.0]|       0.0|\n",
      "|       0|             0|    193872.36|   0|(57647,[1,10585,2...|  0.0|  [345.0,0.0]|  [1.0,0.0]|       0.0|\n",
      "|       0|             0|    197057.88|   0|(57647,[1,10639,2...|  0.0|  [345.0,0.0]|  [1.0,0.0]|       0.0|\n",
      "|       0|             0|       210936|   0|(57647,[1,10918,2...|  0.0|  [345.0,0.0]|  [1.0,0.0]|       0.0|\n",
      "|       0|             0|    212350.08|   0|(57647,[1,10959,2...|  0.0|  [345.0,0.0]|  [1.0,0.0]|       0.0|\n",
      "|       0|             0|    216384.84|   0|(57647,[1,11048,2...|  0.0|  [345.0,0.0]|  [1.0,0.0]|       0.0|\n",
      "|       0|             0|    226509.24|   0|(57647,[1,11279,2...|  0.0|  [345.0,0.0]|  [1.0,0.0]|       0.0|\n",
      "|       0|             0|    229149.96|   0|(57647,[1,11351,2...|  0.0|  [345.0,0.0]|  [1.0,0.0]|       0.0|\n",
      "|       0|             0|    231380.52|   0|(57647,[1,11405,2...|  0.0|  [345.0,0.0]|  [1.0,0.0]|       0.0|\n",
      "|       0|             0|     237004.8|   0|(57647,[1,11518,2...|  0.0|  [345.0,0.0]|  [1.0,0.0]|       0.0|\n",
      "|       0|             0|    240813.72|   0|(57647,[1,11603,2...|  0.0|  [345.0,0.0]|  [1.0,0.0]|       0.0|\n",
      "|       0|             0|       242340|   0|(57647,[1,11634,2...|  0.0|  [345.0,0.0]|  [1.0,0.0]|       0.0|\n",
      "|       0|             0|    245713.92|   0|(57647,[1,11697,2...|  0.0|  [345.0,0.0]|  [1.0,0.0]|       0.0|\n",
      "|       0|             0|    250534.68|   0|(57647,[1,11793,2...|  0.0|  [345.0,0.0]|  [1.0,0.0]|       0.0|\n",
      "+--------+--------------+-------------+----+--------------------+-----+-------------+-----------+----------+\n",
      "only showing top 20 rows\n",
      "\n"
     ]
    }
   ],
   "source": [
    "dataTestPrediction4 = tvsFitted4.transform(dataTest)\n",
    "dataTestPrediction4.show()"
   ]
  },
  {
   "cell_type": "code",
   "execution_count": 54,
   "id": "59ee5b5f-43d0-421c-87ab-583dc9e78bba",
   "metadata": {},
   "outputs": [
    {
     "data": {
      "text/plain": [
       "0.546165268919754"
      ]
     },
     "execution_count": 54,
     "metadata": {},
     "output_type": "execute_result"
    }
   ],
   "source": [
    "evaluator2.evaluate(dataTestPrediction4)"
   ]
  },
  {
   "cell_type": "code",
   "execution_count": 62,
   "id": "3360085a-bb66-44a8-a452-dc06b4a54ac4",
   "metadata": {},
   "outputs": [],
   "source": [
    "tvsFitted.save('demo_data/best-model')"
   ]
  },
  {
   "cell_type": "code",
   "execution_count": 64,
   "id": "98d3e6f1-04d7-4f52-a61d-34662d20d72f",
   "metadata": {},
   "outputs": [],
   "source": [
    "from pyspark.ml.tuning import TrainValidationSplitModel\n",
    "\n",
    "model = TrainValidationSplitModel.load('demo_data/best-model')"
   ]
  },
  {
   "cell_type": "code",
   "execution_count": 68,
   "id": "303d5938-a820-4f57-81bc-ddf39900ea4d",
   "metadata": {},
   "outputs": [
    {
     "name": "stdout",
     "output_type": "stream",
     "text": [
      "+--------+--------------+-------------+----+--------------------+-----+--------------------+--------------------+----------+\n",
      "|Employed|Balance_Cuenta|Salario_Anual|Mora|            features|label|       rawPrediction|         probability|prediction|\n",
      "+--------+--------------+-------------+----+--------------------+-----+--------------------+--------------------+----------+\n",
      "|       1|       8754.36|    532339.56|   0|(57647,[0,8429,16...|  0.0|[2.66561947473234...|[0.93496718688331...|       0.0|\n",
      "|       0|       9806.16|    145273.56|   0|(57647,[9102,9818...|  0.0|[-0.0533260676229...|[0.48667164139847...|       1.0|\n",
      "|       1|       12882.6|    381205.68|   0|(57647,[0,2367,13...|  0.0|[2.66561947473234...|[0.93496718688331...|       0.0|\n",
      "|       1|          6351|    428453.88|   0|(57647,[0,7045,14...|  0.0|[2.66561947473234...|[0.93496718688331...|       0.0|\n",
      "|       1|       9427.92|       461562|   0|(57647,[0,8855,15...|  0.0|[2.66561947473234...|[0.93496718688331...|       0.0|\n",
      "|       0|      11035.08|     89898.72|   0|(57647,[1243,1920...|  0.0|[2.63170299831733...|[0.93287426958645...|       0.0|\n",
      "|       1|       9906.12|    298862.76|   0|(57647,[0,9163,12...|  0.0|[0.06430695494693...|[0.51607120073561...|       0.0|\n",
      "|       0|       9704.04|     211205.4|   0|(57647,[9027,1092...|  0.0|[2.63170299831733...|[0.93287426958645...|       0.0|\n",
      "|       1|      13932.72|    449622.36|   0|(57647,[0,2914,15...|  0.0|[2.66561947473234...|[0.93496718688331...|       0.0|\n",
      "|       1|             0|    351303.24|   0|(57647,[0,1,13280...|  0.0|[2.67587996607450...|[0.93558828375401...|       0.0|\n",
      "|       0|             0|    262452.84|   0|(57647,[1,12040,2...|  0.0|[2.63006316335808...|[0.93277151042006...|       0.0|\n",
      "|       0|      14646.96|    159222.72|   0|(57647,[3277,9970...|  0.0|[-0.0533260676229...|[0.48667164139847...|       1.0|\n",
      "|       1|        2844.6|     339020.4|   0|(57647,[0,5467,13...|  0.0|[2.66561947473234...|[0.93496718688331...|       0.0|\n",
      "|       1|       7280.88|    539934.72|   0|(57647,[0,7549,17...|  0.0|[0.06430695494693...|[0.51607120073561...|       0.0|\n",
      "|       1|      13355.64|    285722.04|   0|(57647,[0,2630,12...|  0.0|[2.66561947473234...|[0.93496718688331...|       0.0|\n",
      "|       1|       3434.76|    540508.92|   0|(57647,[0,5677,17...|  0.0|[2.66561947473234...|[0.93496718688331...|       0.0|\n",
      "|       1|             0|    603183.72|   0|(57647,[0,1,18132...|  0.0|[1.38764525594427...|[0.80021605557853...|       0.0|\n",
      "|       0|       6330.48|    211638.48|   0|(57647,[7028,1093...|  0.0|[-0.0533260676229...|[0.48667164139847...|       1.0|\n",
      "|       1|       5831.28|    738793.32|   0|(57647,[0,506,190...|  0.0|[0.06430695494693...|[0.51607120073561...|       0.0|\n",
      "|       1|      13140.84|    317575.56|   0|(57647,[0,2513,12...|  0.0|[2.66561947473234...|[0.93496718688331...|       0.0|\n",
      "+--------+--------------+-------------+----+--------------------+-----+--------------------+--------------------+----------+\n",
      "only showing top 20 rows\n",
      "\n"
     ]
    }
   ],
   "source": [
    "model.transform(preparedDF).show()"
   ]
  },
  {
   "cell_type": "code",
   "execution_count": null,
   "id": "b7e777d6-a981-4d0b-b48a-8e40d9049663",
   "metadata": {},
   "outputs": [],
   "source": []
  }
 ],
 "metadata": {
  "kernelspec": {
   "display_name": "Python 3 (ipykernel)",
   "language": "python",
   "name": "python3"
  },
  "language_info": {
   "codemirror_mode": {
    "name": "ipython",
    "version": 3
   },
   "file_extension": ".py",
   "mimetype": "text/x-python",
   "name": "python",
   "nbconvert_exporter": "python",
   "pygments_lexer": "ipython3",
   "version": "3.9.12"
  }
 },
 "nbformat": 4,
 "nbformat_minor": 5
}
